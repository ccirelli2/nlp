{
 "cells": [
  {
   "cell_type": "markdown",
   "id": "e4a6da4b",
   "metadata": {},
   "source": [
    "\n",
    "### Data Preprocessing\n",
    "- Gensim word2vec requires that a format of list of lists for training where every document is contained in a list and every list contains a list of tokens of that document.\n",
    "\n",
    "\n",
    "### References\n",
    "---\n",
    "- https://towardsdatascience.com/a-beginners-guide-to-word-embedding-with-gensim-word2vec-model-5970fa56cc92?gi=2df9a428548d\n",
    "- data: https://towardsdatascience.com/a-beginners-guide-to-word-embedding-with-gensim-word2vec-model-5970fa56cc92?gi=2df9a428548d\n",
    "    "
   ]
  },
  {
   "cell_type": "markdown",
   "id": "e213e27e",
   "metadata": {},
   "source": [
    "# Setup"
   ]
  },
  {
   "cell_type": "code",
   "execution_count": 5,
   "id": "b2fa0eca",
   "metadata": {},
   "outputs": [],
   "source": [
    "import os\n",
    "import pandas as pd\n",
    "from string import punctuation"
   ]
  },
  {
   "cell_type": "code",
   "execution_count": 1,
   "id": "6274d07c",
   "metadata": {},
   "outputs": [
    {
     "name": "stderr",
     "output_type": "stream",
     "text": [
      "/home/oem/anaconda3/lib/python3.9/site-packages/gensim/similarities/__init__.py:15: UserWarning: The gensim.similarities.levenshtein submodule is disabled, because the optional Levenshtein package <https://pypi.org/project/python-Levenshtein/> is unavailable. Install Levenhstein (e.g. `pip install python-Levenshtein`) to suppress this warning.\n",
      "  warnings.warn(msg)\n"
     ]
    }
   ],
   "source": [
    "import gensim"
   ]
  },
  {
   "cell_type": "markdown",
   "id": "d42e82ad",
   "metadata": {},
   "source": [
    "### Globals"
   ]
  },
  {
   "cell_type": "code",
   "execution_count": 2,
   "id": "4b9445ec",
   "metadata": {},
   "outputs": [],
   "source": [
    "DIR_DATA = \"/home/oem/repositories/nlp/data\"\n",
    "FILENAME_DATA = \"moby10b.txt\""
   ]
  },
  {
   "cell_type": "markdown",
   "id": "4ada295d",
   "metadata": {},
   "source": [
    "### Load Data"
   ]
  },
  {
   "cell_type": "code",
   "execution_count": 3,
   "id": "8dded19c",
   "metadata": {},
   "outputs": [],
   "source": [
    "text_raw = open(os.path.join(DIR_DATA, FILENAME_DATA), 'r').readlines()"
   ]
  },
  {
   "cell_type": "code",
   "execution_count": 4,
   "id": "678fbce9",
   "metadata": {},
   "outputs": [
    {
     "data": {
      "text/plain": [
       "['**The Project Gutenberg Etext of Moby Dick, by Herman Melville**\\n',\n",
       " '#3 in our series by Herman Melville\\n',\n",
       " '\\n',\n",
       " 'This Project Gutenberg version of Moby Dick is based on a combination\\n',\n",
       " 'of the etext from the ERIS project at Virginia Tech and another from\\n',\n",
       " \"Project Gutenberg's archives, as compared to a public-domain hard copy.\\n\",\n",
       " '\\n',\n",
       " 'Copyright laws are changing all over the world, be sure to check\\n',\n",
       " 'the copyright laws for your country before posting these files!!\\n',\n",
       " '\\n']"
      ]
     },
     "execution_count": 4,
     "metadata": {},
     "output_type": "execute_result"
    }
   ],
   "source": [
    "text_raw[:10]"
   ]
  },
  {
   "cell_type": "code",
   "execution_count": 5,
   "id": "b3b6c61e",
   "metadata": {},
   "outputs": [
    {
     "data": {
      "text/plain": [
       "'Number of Lines of Text => 23244'"
      ]
     },
     "execution_count": 5,
     "metadata": {},
     "output_type": "execute_result"
    }
   ],
   "source": [
    "f\"Number of Lines of Text => {len(text_raw)}\""
   ]
  },
  {
   "cell_type": "markdown",
   "id": "f5fc405b",
   "metadata": {},
   "source": [
    "<br>\n",
    "\n",
    "---\n",
    "\n",
    "# Create a Training Dataset\n",
    "---\n",
    "\n",
    "1. Create list of rows of text.\n",
    "2. Standardize text.\n",
    "2. Create list of list where the inner lists are tokenized text.\n",
    "\n",
    "<br>"
   ]
  },
  {
   "cell_type": "markdown",
   "id": "c170209e",
   "metadata": {},
   "source": [
    "### Clean Text"
   ]
  },
  {
   "cell_type": "code",
   "execution_count": 6,
   "id": "8bd1c3f8",
   "metadata": {},
   "outputs": [],
   "source": [
    "def clean_text(text_line, punctuation):\n",
    "    for p in punctuation:\n",
    "        text_line = text_line.replace(p, '')\n",
    "        text_line = text_line.replace('  ', ' ')\n",
    "    return text_line"
   ]
  },
  {
   "cell_type": "code",
   "execution_count": 7,
   "id": "e4ac2e89",
   "metadata": {},
   "outputs": [],
   "source": [
    "text_clean = [\n",
    "    x.lower()\\\n",
    "    .replace(\"\\n\", \"\")\\\n",
    "    for x in text_raw if x\n",
    "]"
   ]
  },
  {
   "cell_type": "code",
   "execution_count": 8,
   "id": "11e278c8",
   "metadata": {},
   "outputs": [],
   "source": [
    "text_clean = [clean_text(x, punctuation).split(' ') for x in text_clean]\n"
   ]
  },
  {
   "cell_type": "code",
   "execution_count": 9,
   "id": "d9395892",
   "metadata": {},
   "outputs": [],
   "source": [
    "text_clean = [x for x in text_clean if x]"
   ]
  },
  {
   "cell_type": "code",
   "execution_count": 10,
   "id": "b7c351d8",
   "metadata": {},
   "outputs": [
    {
     "data": {
      "text/plain": [
       "[['the',\n",
       "  'project',\n",
       "  'gutenberg',\n",
       "  'etext',\n",
       "  'of',\n",
       "  'moby',\n",
       "  'dick',\n",
       "  'by',\n",
       "  'herman',\n",
       "  'melville'],\n",
       " ['3', 'in', 'our', 'series', 'by', 'herman', 'melville'],\n",
       " [''],\n",
       " ['this',\n",
       "  'project',\n",
       "  'gutenberg',\n",
       "  'version',\n",
       "  'of',\n",
       "  'moby',\n",
       "  'dick',\n",
       "  'is',\n",
       "  'based',\n",
       "  'on',\n",
       "  'a',\n",
       "  'combination'],\n",
       " ['of',\n",
       "  'the',\n",
       "  'etext',\n",
       "  'from',\n",
       "  'the',\n",
       "  'eris',\n",
       "  'project',\n",
       "  'at',\n",
       "  'virginia',\n",
       "  'tech',\n",
       "  'and',\n",
       "  'another',\n",
       "  'from'],\n",
       " ['project',\n",
       "  'gutenbergs',\n",
       "  'archives',\n",
       "  'as',\n",
       "  'compared',\n",
       "  'to',\n",
       "  'a',\n",
       "  'publicdomain',\n",
       "  'hard',\n",
       "  'copy'],\n",
       " [''],\n",
       " ['copyright',\n",
       "  'laws',\n",
       "  'are',\n",
       "  'changing',\n",
       "  'all',\n",
       "  'over',\n",
       "  'the',\n",
       "  'world',\n",
       "  'be',\n",
       "  'sure',\n",
       "  'to',\n",
       "  'check'],\n",
       " ['the',\n",
       "  'copyright',\n",
       "  'laws',\n",
       "  'for',\n",
       "  'your',\n",
       "  'country',\n",
       "  'before',\n",
       "  'posting',\n",
       "  'these',\n",
       "  'files'],\n",
       " ['']]"
      ]
     },
     "execution_count": 10,
     "metadata": {},
     "output_type": "execute_result"
    }
   ],
   "source": [
    "text_clean[:10]"
   ]
  },
  {
   "cell_type": "code",
   "execution_count": null,
   "id": "31024672",
   "metadata": {},
   "outputs": [],
   "source": []
  },
  {
   "cell_type": "code",
   "execution_count": null,
   "id": "0d6e684a",
   "metadata": {},
   "outputs": [],
   "source": []
  },
  {
   "cell_type": "code",
   "execution_count": null,
   "id": "6ab58b68",
   "metadata": {},
   "outputs": [],
   "source": []
  }
 ],
 "metadata": {
  "kernelspec": {
   "display_name": "Python 3 (ipykernel)",
   "language": "python",
   "name": "python3"
  },
  "language_info": {
   "codemirror_mode": {
    "name": "ipython",
    "version": 3
   },
   "file_extension": ".py",
   "mimetype": "text/x-python",
   "name": "python",
   "nbconvert_exporter": "python",
   "pygments_lexer": "ipython3",
   "version": "3.9.7"
  }
 },
 "nbformat": 4,
 "nbformat_minor": 5
}
